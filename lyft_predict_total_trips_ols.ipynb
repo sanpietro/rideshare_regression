{
 "cells": [
  {
   "cell_type": "markdown",
   "metadata": {},
   "source": [
    "# **PREDICTING LYFT'S REVENUES**"
   ]
  },
  {
   "cell_type": "markdown",
   "metadata": {},
   "source": [
    "**Using a datset derived from a simulation of Lyft's driver revenues database, \n",
    "we perform an analysis using linear regression to see if we can predict driver revenues\n",
    "based on the given features.**"
   ]
  },
  {
   "cell_type": "markdown",
   "metadata": {},
   "source": [
    "## Import Libraries"
   ]
  },
  {
   "cell_type": "code",
   "execution_count": 1105,
   "metadata": {},
   "outputs": [],
   "source": [
    "import pandas as pd\n",
    "import numpy as np\n",
    "import matplotlib.pyplot as plt\n",
    "import seaborn as sns\n",
    "%matplotlib inline"
   ]
  },
  {
   "cell_type": "markdown",
   "metadata": {},
   "source": [
    "## Obtain Data & Get Overview"
   ]
  },
  {
   "cell_type": "code",
   "execution_count": 1106,
   "metadata": {},
   "outputs": [],
   "source": [
    "df = pd.read_csv(\"Lyft.csv\")"
   ]
  },
  {
   "cell_type": "markdown",
   "metadata": {},
   "source": [
    "**First thing we need to do is check out what types of data we're dealing with**"
   ]
  },
  {
   "cell_type": "code",
   "execution_count": 1107,
   "metadata": {
    "scrolled": true
   },
   "outputs": [
    {
     "name": "stdout",
     "output_type": "stream",
     "text": [
      "<class 'pandas.core.frame.DataFrame'>\n",
      "RangeIndex: 184007 entries, 0 to 184006\n",
      "Data columns (total 25 columns):\n",
      "id                184007 non-null int64\n",
      "driver_id         184007 non-null object\n",
      "ride_id           184007 non-null object\n",
      "requested         184007 non-null object\n",
      "accepted          184007 non-null object\n",
      "arrived           184007 non-null object\n",
      "picked_up         184007 non-null object\n",
      "dropped_off       184007 non-null object\n",
      "dis_meters        184007 non-null int64\n",
      "dis_miles         184007 non-null float64\n",
      "dur_seconds       184007 non-null int64\n",
      "dur_minutes       184007 non-null float64\n",
      "prime_time        184007 non-null float64\n",
      "base_fare         184007 non-null int64\n",
      "cp_mile           184007 non-null float64\n",
      "cp_min            184007 non-null float64\n",
      "service_fee       184007 non-null float64\n",
      "min_fare          184007 non-null int64\n",
      "max_fare          184007 non-null int64\n",
      "fare_subtotal     184007 non-null float64\n",
      "prime_time_fee    184007 non-null float64\n",
      "total_fare        184007 non-null float64\n",
      "actual_total      184007 non-null float64\n",
      "lyft_cut          184007 non-null float64\n",
      "driver_cut        184007 non-null float64\n",
      "dtypes: float64(12), int64(6), object(7)\n",
      "memory usage: 35.1+ MB\n"
     ]
    }
   ],
   "source": [
    "\n",
    "df.info()"
   ]
  },
  {
   "cell_type": "code",
   "execution_count": 1108,
   "metadata": {
    "scrolled": true
   },
   "outputs": [
    {
     "data": {
      "text/html": [
       "<div>\n",
       "<style scoped>\n",
       "    .dataframe tbody tr th:only-of-type {\n",
       "        vertical-align: middle;\n",
       "    }\n",
       "\n",
       "    .dataframe tbody tr th {\n",
       "        vertical-align: top;\n",
       "    }\n",
       "\n",
       "    .dataframe thead th {\n",
       "        text-align: right;\n",
       "    }\n",
       "</style>\n",
       "<table border=\"1\" class=\"dataframe\">\n",
       "  <thead>\n",
       "    <tr style=\"text-align: right;\">\n",
       "      <th></th>\n",
       "      <th>id</th>\n",
       "      <th>driver_id</th>\n",
       "      <th>ride_id</th>\n",
       "      <th>requested</th>\n",
       "      <th>accepted</th>\n",
       "      <th>arrived</th>\n",
       "      <th>picked_up</th>\n",
       "      <th>dropped_off</th>\n",
       "      <th>dis_meters</th>\n",
       "      <th>dis_miles</th>\n",
       "      <th>...</th>\n",
       "      <th>cp_min</th>\n",
       "      <th>service_fee</th>\n",
       "      <th>min_fare</th>\n",
       "      <th>max_fare</th>\n",
       "      <th>fare_subtotal</th>\n",
       "      <th>prime_time_fee</th>\n",
       "      <th>total_fare</th>\n",
       "      <th>actual_total</th>\n",
       "      <th>lyft_cut</th>\n",
       "      <th>driver_cut</th>\n",
       "    </tr>\n",
       "  </thead>\n",
       "  <tbody>\n",
       "    <tr>\n",
       "      <th>0</th>\n",
       "      <td>1</td>\n",
       "      <td>d967f5296732fa55266b5f1314e7447b</td>\n",
       "      <td>00003037a262d9ee40e61b5c0718f7f0</td>\n",
       "      <td>2016-06-13 09:39:00</td>\n",
       "      <td>2016-06-13 09:39:00</td>\n",
       "      <td>2016-06-13 09:44:00</td>\n",
       "      <td>2016-06-13 09:44:00</td>\n",
       "      <td>2016-06-13 10:03:00</td>\n",
       "      <td>3698</td>\n",
       "      <td>2.30</td>\n",
       "      <td>...</td>\n",
       "      <td>0.22</td>\n",
       "      <td>1.75</td>\n",
       "      <td>5</td>\n",
       "      <td>400</td>\n",
       "      <td>8.72</td>\n",
       "      <td>0.00</td>\n",
       "      <td>10.47</td>\n",
       "      <td>10.47</td>\n",
       "      <td>2.09</td>\n",
       "      <td>8.38</td>\n",
       "    </tr>\n",
       "    <tr>\n",
       "      <th>1</th>\n",
       "      <td>2</td>\n",
       "      <td>0656192a402808805282e60761bda088</td>\n",
       "      <td>00005eae40882760d675da5effb89ae3</td>\n",
       "      <td>2016-05-14 05:23:00</td>\n",
       "      <td>2016-05-14 05:23:00</td>\n",
       "      <td>2016-05-14 05:26:00</td>\n",
       "      <td>2016-05-14 05:26:00</td>\n",
       "      <td>2016-05-14 05:34:00</td>\n",
       "      <td>3016</td>\n",
       "      <td>1.87</td>\n",
       "      <td>...</td>\n",
       "      <td>0.22</td>\n",
       "      <td>1.75</td>\n",
       "      <td>5</td>\n",
       "      <td>400</td>\n",
       "      <td>5.91</td>\n",
       "      <td>1.48</td>\n",
       "      <td>7.91</td>\n",
       "      <td>7.91</td>\n",
       "      <td>1.58</td>\n",
       "      <td>6.33</td>\n",
       "    </tr>\n",
       "    <tr>\n",
       "      <th>2</th>\n",
       "      <td>3</td>\n",
       "      <td>c468a648519cd42da75e6aa9dadf733e</td>\n",
       "      <td>000061d42cf29f73b591041d9a1b2973</td>\n",
       "      <td>2016-05-16 15:43:00</td>\n",
       "      <td>2016-05-16 15:43:00</td>\n",
       "      <td>2016-05-16 15:47:00</td>\n",
       "      <td>2016-05-16 15:47:00</td>\n",
       "      <td>2016-05-16 15:54:00</td>\n",
       "      <td>4084</td>\n",
       "      <td>2.54</td>\n",
       "      <td>...</td>\n",
       "      <td>0.22</td>\n",
       "      <td>1.75</td>\n",
       "      <td>5</td>\n",
       "      <td>400</td>\n",
       "      <td>6.41</td>\n",
       "      <td>4.81</td>\n",
       "      <td>8.91</td>\n",
       "      <td>8.91</td>\n",
       "      <td>1.78</td>\n",
       "      <td>7.13</td>\n",
       "    </tr>\n",
       "    <tr>\n",
       "      <th>3</th>\n",
       "      <td>4</td>\n",
       "      <td>689bdf87fb2de49f98bf4946cfaa5068</td>\n",
       "      <td>00006efeb0d5e3ccad7d921ddeee9900</td>\n",
       "      <td>2016-05-11 19:29:00</td>\n",
       "      <td>2016-05-11 19:29:00</td>\n",
       "      <td>2016-05-11 19:35:00</td>\n",
       "      <td>2016-05-11 19:35:00</td>\n",
       "      <td>2016-05-11 19:40:00</td>\n",
       "      <td>1646</td>\n",
       "      <td>1.02</td>\n",
       "      <td>...</td>\n",
       "      <td>0.22</td>\n",
       "      <td>1.75</td>\n",
       "      <td>5</td>\n",
       "      <td>400</td>\n",
       "      <td>4.39</td>\n",
       "      <td>3.30</td>\n",
       "      <td>6.89</td>\n",
       "      <td>6.89</td>\n",
       "      <td>1.38</td>\n",
       "      <td>5.51</td>\n",
       "    </tr>\n",
       "    <tr>\n",
       "      <th>4</th>\n",
       "      <td>5</td>\n",
       "      <td>eece82fe623b4bb335a9b9e20eb0ca54</td>\n",
       "      <td>00012759befd5d34a0609800f6a1ee59</td>\n",
       "      <td>2016-05-31 15:44:00</td>\n",
       "      <td>2016-05-31 15:45:00</td>\n",
       "      <td>2016-05-31 15:46:00</td>\n",
       "      <td>2016-05-31 15:46:00</td>\n",
       "      <td>2016-05-31 15:59:00</td>\n",
       "      <td>3357</td>\n",
       "      <td>2.09</td>\n",
       "      <td>...</td>\n",
       "      <td>0.22</td>\n",
       "      <td>1.75</td>\n",
       "      <td>5</td>\n",
       "      <td>400</td>\n",
       "      <td>7.27</td>\n",
       "      <td>0.00</td>\n",
       "      <td>9.02</td>\n",
       "      <td>9.02</td>\n",
       "      <td>1.80</td>\n",
       "      <td>7.22</td>\n",
       "    </tr>\n",
       "  </tbody>\n",
       "</table>\n",
       "<p>5 rows × 25 columns</p>\n",
       "</div>"
      ],
      "text/plain": [
       "   id                         driver_id                           ride_id  \\\n",
       "0   1  d967f5296732fa55266b5f1314e7447b  00003037a262d9ee40e61b5c0718f7f0   \n",
       "1   2  0656192a402808805282e60761bda088  00005eae40882760d675da5effb89ae3   \n",
       "2   3  c468a648519cd42da75e6aa9dadf733e  000061d42cf29f73b591041d9a1b2973   \n",
       "3   4  689bdf87fb2de49f98bf4946cfaa5068  00006efeb0d5e3ccad7d921ddeee9900   \n",
       "4   5  eece82fe623b4bb335a9b9e20eb0ca54  00012759befd5d34a0609800f6a1ee59   \n",
       "\n",
       "             requested             accepted              arrived  \\\n",
       "0  2016-06-13 09:39:00  2016-06-13 09:39:00  2016-06-13 09:44:00   \n",
       "1  2016-05-14 05:23:00  2016-05-14 05:23:00  2016-05-14 05:26:00   \n",
       "2  2016-05-16 15:43:00  2016-05-16 15:43:00  2016-05-16 15:47:00   \n",
       "3  2016-05-11 19:29:00  2016-05-11 19:29:00  2016-05-11 19:35:00   \n",
       "4  2016-05-31 15:44:00  2016-05-31 15:45:00  2016-05-31 15:46:00   \n",
       "\n",
       "             picked_up          dropped_off  dis_meters  dis_miles  \\\n",
       "0  2016-06-13 09:44:00  2016-06-13 10:03:00        3698       2.30   \n",
       "1  2016-05-14 05:26:00  2016-05-14 05:34:00        3016       1.87   \n",
       "2  2016-05-16 15:47:00  2016-05-16 15:54:00        4084       2.54   \n",
       "3  2016-05-11 19:35:00  2016-05-11 19:40:00        1646       1.02   \n",
       "4  2016-05-31 15:46:00  2016-05-31 15:59:00        3357       2.09   \n",
       "\n",
       "      ...      cp_min  service_fee  min_fare  max_fare  fare_subtotal  \\\n",
       "0     ...        0.22         1.75         5       400           8.72   \n",
       "1     ...        0.22         1.75         5       400           5.91   \n",
       "2     ...        0.22         1.75         5       400           6.41   \n",
       "3     ...        0.22         1.75         5       400           4.39   \n",
       "4     ...        0.22         1.75         5       400           7.27   \n",
       "\n",
       "   prime_time_fee  total_fare  actual_total  lyft_cut  driver_cut  \n",
       "0            0.00       10.47         10.47      2.09        8.38  \n",
       "1            1.48        7.91          7.91      1.58        6.33  \n",
       "2            4.81        8.91          8.91      1.78        7.13  \n",
       "3            3.30        6.89          6.89      1.38        5.51  \n",
       "4            0.00        9.02          9.02      1.80        7.22  \n",
       "\n",
       "[5 rows x 25 columns]"
      ]
     },
     "execution_count": 1108,
     "metadata": {},
     "output_type": "execute_result"
    }
   ],
   "source": [
    "df.head()"
   ]
  },
  {
   "cell_type": "markdown",
   "metadata": {},
   "source": [
    "**As we have timestamp data in our dataframe, we need to make sure that we convert their datatypes to\n",
    "a DATETIME object. This is probably one of the most important things to be done in getting an overview\n",
    "of a dataset. All sorts of issues can present themselves if this isn't take care of up front!**"
   ]
  },
  {
   "cell_type": "code",
   "execution_count": 1109,
   "metadata": {},
   "outputs": [
    {
     "name": "stdout",
     "output_type": "stream",
     "text": [
      "<class 'pandas.core.frame.DataFrame'>\n",
      "RangeIndex: 184007 entries, 0 to 184006\n",
      "Data columns (total 25 columns):\n",
      "id                184007 non-null float64\n",
      "driver_id         184007 non-null object\n",
      "ride_id           184007 non-null object\n",
      "requested         184007 non-null datetime64[ns]\n",
      "accepted          184007 non-null datetime64[ns]\n",
      "arrived           184007 non-null datetime64[ns]\n",
      "picked_up         184007 non-null datetime64[ns]\n",
      "dropped_off       184007 non-null datetime64[ns]\n",
      "dis_meters        184007 non-null float64\n",
      "dis_miles         184007 non-null float64\n",
      "dur_seconds       184007 non-null float64\n",
      "dur_minutes       184007 non-null float64\n",
      "prime_time        184007 non-null float64\n",
      "base_fare         184007 non-null float64\n",
      "cp_mile           184007 non-null float64\n",
      "cp_min            184007 non-null float64\n",
      "service_fee       184007 non-null float64\n",
      "min_fare          184007 non-null float64\n",
      "max_fare          184007 non-null float64\n",
      "fare_subtotal     184007 non-null float64\n",
      "prime_time_fee    184007 non-null float64\n",
      "total_fare        184007 non-null float64\n",
      "actual_total      184007 non-null float64\n",
      "lyft_cut          184007 non-null float64\n",
      "driver_cut        184007 non-null float64\n",
      "dtypes: datetime64[ns](5), float64(18), object(2)\n",
      "memory usage: 35.1+ MB\n"
     ]
    }
   ],
   "source": [
    "for col in df:\n",
    "    if col in \"requested,accepted,arrived,picked_up,dropped_off\":\n",
    "        df[col] = pd.to_datetime(df[col])\n",
    "    elif df[col].dtype == \"int\":\n",
    "        df[col] = df[col].astype('float')\n",
    "df.info()\n"
   ]
  },
  {
   "cell_type": "markdown",
   "metadata": {},
   "source": [
    "**Next, we check to see if any columns have NULL values**"
   ]
  },
  {
   "cell_type": "code",
   "execution_count": 1110,
   "metadata": {},
   "outputs": [
    {
     "data": {
      "text/plain": [
       "False"
      ]
     },
     "execution_count": 1110,
     "metadata": {},
     "output_type": "execute_result"
    }
   ],
   "source": [
    "pd.isnull(df).values.any()"
   ]
  },
  {
   "cell_type": "markdown",
   "metadata": {},
   "source": [
    "## Feature Engineering & Selection"
   ]
  },
  {
   "cell_type": "markdown",
   "metadata": {},
   "source": [
    "**Now, since we really can't do much with DATETIME objects by themselves, we're really much more interested in the difference between the timestamps. So let's engineer four new features that reflect the difference between when a driver:**\n",
    "- **received the ride request and accepted the request**\n",
    "- **accepted and arrived at the passenger's location**\n",
    "- **arrived and picked up the passenger**\n",
    "- **picked up and dropped off the passenger at their destination**"
   ]
  },
  {
   "cell_type": "code",
   "execution_count": 1111,
   "metadata": {},
   "outputs": [],
   "source": [
    "df['diff_req_acc'] = (df['accepted'] - df['requested']).astype('timedelta64[s]')\n",
    "df['diff_acc_arr'] = (df['arrived'] - df['accepted']).astype('timedelta64[s]')\n",
    "df['diff_arr_pick'] = (df['picked_up'] - df['arrived']).astype('timedelta64[s]')\n",
    "df['diff_pick_drop'] = (df['dropped_off'] - df['picked_up']).astype('timedelta64[s]')"
   ]
  },
  {
   "cell_type": "markdown",
   "metadata": {},
   "source": [
    "**Next, we'll remove the timestamps and all of the superflous features based on our domain knowledge**"
   ]
  },
  {
   "cell_type": "code",
   "execution_count": 1112,
   "metadata": {},
   "outputs": [],
   "source": [
    "df2= df[['diff_req_acc','diff_acc_arr','diff_arr_pick','diff_pick_drop','dis_miles','dur_seconds','prime_time','actual_total']].copy()"
   ]
  },
  {
   "cell_type": "code",
   "execution_count": 1113,
   "metadata": {
    "scrolled": false
   },
   "outputs": [
    {
     "data": {
      "text/html": [
       "<div>\n",
       "<style scoped>\n",
       "    .dataframe tbody tr th:only-of-type {\n",
       "        vertical-align: middle;\n",
       "    }\n",
       "\n",
       "    .dataframe tbody tr th {\n",
       "        vertical-align: top;\n",
       "    }\n",
       "\n",
       "    .dataframe thead th {\n",
       "        text-align: right;\n",
       "    }\n",
       "</style>\n",
       "<table border=\"1\" class=\"dataframe\">\n",
       "  <thead>\n",
       "    <tr style=\"text-align: right;\">\n",
       "      <th></th>\n",
       "      <th>diff_req_acc</th>\n",
       "      <th>diff_acc_arr</th>\n",
       "      <th>diff_arr_pick</th>\n",
       "      <th>diff_pick_drop</th>\n",
       "      <th>dis_miles</th>\n",
       "      <th>dur_seconds</th>\n",
       "      <th>prime_time</th>\n",
       "      <th>actual_total</th>\n",
       "    </tr>\n",
       "  </thead>\n",
       "  <tbody>\n",
       "    <tr>\n",
       "      <th>0</th>\n",
       "      <td>0.0</td>\n",
       "      <td>300.0</td>\n",
       "      <td>0.0</td>\n",
       "      <td>1140.0</td>\n",
       "      <td>2.30</td>\n",
       "      <td>1112.0</td>\n",
       "      <td>0.00</td>\n",
       "      <td>10.47</td>\n",
       "    </tr>\n",
       "    <tr>\n",
       "      <th>1</th>\n",
       "      <td>0.0</td>\n",
       "      <td>180.0</td>\n",
       "      <td>0.0</td>\n",
       "      <td>480.0</td>\n",
       "      <td>1.87</td>\n",
       "      <td>479.0</td>\n",
       "      <td>0.25</td>\n",
       "      <td>7.91</td>\n",
       "    </tr>\n",
       "    <tr>\n",
       "      <th>2</th>\n",
       "      <td>0.0</td>\n",
       "      <td>240.0</td>\n",
       "      <td>0.0</td>\n",
       "      <td>420.0</td>\n",
       "      <td>2.54</td>\n",
       "      <td>406.0</td>\n",
       "      <td>0.75</td>\n",
       "      <td>8.91</td>\n",
       "    </tr>\n",
       "    <tr>\n",
       "      <th>3</th>\n",
       "      <td>0.0</td>\n",
       "      <td>360.0</td>\n",
       "      <td>0.0</td>\n",
       "      <td>300.0</td>\n",
       "      <td>1.02</td>\n",
       "      <td>332.0</td>\n",
       "      <td>0.75</td>\n",
       "      <td>6.89</td>\n",
       "    </tr>\n",
       "    <tr>\n",
       "      <th>4</th>\n",
       "      <td>60.0</td>\n",
       "      <td>60.0</td>\n",
       "      <td>0.0</td>\n",
       "      <td>780.0</td>\n",
       "      <td>2.09</td>\n",
       "      <td>783.0</td>\n",
       "      <td>0.00</td>\n",
       "      <td>9.02</td>\n",
       "    </tr>\n",
       "  </tbody>\n",
       "</table>\n",
       "</div>"
      ],
      "text/plain": [
       "   diff_req_acc  diff_acc_arr  diff_arr_pick  diff_pick_drop  dis_miles  \\\n",
       "0           0.0         300.0            0.0          1140.0       2.30   \n",
       "1           0.0         180.0            0.0           480.0       1.87   \n",
       "2           0.0         240.0            0.0           420.0       2.54   \n",
       "3           0.0         360.0            0.0           300.0       1.02   \n",
       "4          60.0          60.0            0.0           780.0       2.09   \n",
       "\n",
       "   dur_seconds  prime_time  actual_total  \n",
       "0       1112.0        0.00         10.47  \n",
       "1        479.0        0.25          7.91  \n",
       "2        406.0        0.75          8.91  \n",
       "3        332.0        0.75          6.89  \n",
       "4        783.0        0.00          9.02  "
      ]
     },
     "execution_count": 1113,
     "metadata": {},
     "output_type": "execute_result"
    }
   ],
   "source": [
    "df2.head()"
   ]
  },
  {
   "cell_type": "markdown",
   "metadata": {},
   "source": [
    "## Multicollinearity Check!"
   ]
  },
  {
   "cell_type": "markdown",
   "metadata": {},
   "source": [
    "**If we're going to perform linear regression, we want to see which features are \n",
    "independent predictors of our target variable. What we don't want is for these features\n",
    "getting too busy predicting each other that they can't predict the target! So we check\n",
    "for high levels of inter-correlation between independent features...**"
   ]
  },
  {
   "cell_type": "code",
   "execution_count": 1114,
   "metadata": {
    "scrolled": false
   },
   "outputs": [
    {
     "data": {
      "text/plain": [
       "<matplotlib.axes._subplots.AxesSubplot at 0x226ec2de48>"
      ]
     },
     "execution_count": 1114,
     "metadata": {},
     "output_type": "execute_result"
    },
    {
     "data": {
      "image/png": "[encoded data removed]",
      "text/plain": [
       "<Figure size 720x576 with 2 Axes>"
      ]
     },
     "metadata": {
      "needs_background": "light"
     },
     "output_type": "display_data"
    }
   ],
   "source": [
    "plt.figure(figsize=(10, 8))\n",
    "sns.heatmap(df2.corr(),annot=True)"
   ]
  },
  {
   "cell_type": "code",
   "execution_count": 1115,
   "metadata": {},
   "outputs": [],
   "source": [
    "df3= df2[['diff_req_acc','diff_acc_arr','diff_arr_pick','diff_pick_drop','prime_time','actual_total']].copy()"
   ]
  },
  {
   "cell_type": "code",
   "execution_count": 1116,
   "metadata": {
    "scrolled": false
   },
   "outputs": [
    {
     "data": {
      "text/plain": [
       "<matplotlib.axes._subplots.AxesSubplot at 0x22e6ae9eb8>"
      ]
     },
     "execution_count": 1116,
     "metadata": {},
     "output_type": "execute_result"
    },
    {
     "data": {
      "image/png": "[encoded data removed]",
      "text/plain": [
       "<Figure size 720x576 with 2 Axes>"
      ]
     },
     "metadata": {
      "needs_background": "light"
     },
     "output_type": "display_data"
    }
   ],
   "source": [
    "plt.figure(figsize=(10, 8))\n",
    "sns.heatmap(df3.corr(),annot=True)"
   ]
  },
  {
   "cell_type": "markdown",
   "metadata": {},
   "source": [
    "## Data Distribution"
   ]
  },
  {
   "cell_type": "code",
   "execution_count": 1117,
   "metadata": {},
   "outputs": [
    {
     "data": {
      "text/html": [
       "<div>\n",
       "<style scoped>\n",
       "    .dataframe tbody tr th:only-of-type {\n",
       "        vertical-align: middle;\n",
       "    }\n",
       "\n",
       "    .dataframe tbody tr th {\n",
       "        vertical-align: top;\n",
       "    }\n",
       "\n",
       "    .dataframe thead th {\n",
       "        text-align: right;\n",
       "    }\n",
       "</style>\n",
       "<table border=\"1\" class=\"dataframe\">\n",
       "  <thead>\n",
       "    <tr style=\"text-align: right;\">\n",
       "      <th></th>\n",
       "      <th>diff_req_acc</th>\n",
       "      <th>diff_acc_arr</th>\n",
       "      <th>diff_arr_pick</th>\n",
       "      <th>diff_pick_drop</th>\n",
       "      <th>prime_time</th>\n",
       "      <th>actual_total</th>\n",
       "    </tr>\n",
       "  </thead>\n",
       "  <tbody>\n",
       "    <tr>\n",
       "      <th>count</th>\n",
       "      <td>184007.000000</td>\n",
       "      <td>184007.000000</td>\n",
       "      <td>184007.000000</td>\n",
       "      <td>184007.000000</td>\n",
       "      <td>184007.000000</td>\n",
       "      <td>184007.000000</td>\n",
       "    </tr>\n",
       "    <tr>\n",
       "      <th>mean</th>\n",
       "      <td>11.536192</td>\n",
       "      <td>243.603450</td>\n",
       "      <td>6.697897</td>\n",
       "      <td>859.990326</td>\n",
       "      <td>0.173958</td>\n",
       "      <td>12.037122</td>\n",
       "    </tr>\n",
       "    <tr>\n",
       "      <th>std</th>\n",
       "      <td>41.131042</td>\n",
       "      <td>182.226124</td>\n",
       "      <td>19.248728</td>\n",
       "      <td>573.083192</td>\n",
       "      <td>0.308286</td>\n",
       "      <td>8.051167</td>\n",
       "    </tr>\n",
       "    <tr>\n",
       "      <th>min</th>\n",
       "      <td>0.000000</td>\n",
       "      <td>0.000000</td>\n",
       "      <td>0.000000</td>\n",
       "      <td>0.000000</td>\n",
       "      <td>0.000000</td>\n",
       "      <td>5.000000</td>\n",
       "    </tr>\n",
       "    <tr>\n",
       "      <th>25%</th>\n",
       "      <td>0.000000</td>\n",
       "      <td>120.000000</td>\n",
       "      <td>0.000000</td>\n",
       "      <td>480.000000</td>\n",
       "      <td>0.000000</td>\n",
       "      <td>7.600000</td>\n",
       "    </tr>\n",
       "    <tr>\n",
       "      <th>50%</th>\n",
       "      <td>0.000000</td>\n",
       "      <td>180.000000</td>\n",
       "      <td>0.000000</td>\n",
       "      <td>720.000000</td>\n",
       "      <td>0.000000</td>\n",
       "      <td>9.600000</td>\n",
       "    </tr>\n",
       "    <tr>\n",
       "      <th>75%</th>\n",
       "      <td>0.000000</td>\n",
       "      <td>300.000000</td>\n",
       "      <td>0.000000</td>\n",
       "      <td>1080.000000</td>\n",
       "      <td>0.250000</td>\n",
       "      <td>13.030000</td>\n",
       "    </tr>\n",
       "    <tr>\n",
       "      <th>max</th>\n",
       "      <td>5040.000000</td>\n",
       "      <td>3660.000000</td>\n",
       "      <td>840.000000</td>\n",
       "      <td>28200.000000</td>\n",
       "      <td>5.000000</td>\n",
       "      <td>400.000000</td>\n",
       "    </tr>\n",
       "  </tbody>\n",
       "</table>\n",
       "</div>"
      ],
      "text/plain": [
       "        diff_req_acc   diff_acc_arr  diff_arr_pick  diff_pick_drop  \\\n",
       "count  184007.000000  184007.000000  184007.000000   184007.000000   \n",
       "mean       11.536192     243.603450       6.697897      859.990326   \n",
       "std        41.131042     182.226124      19.248728      573.083192   \n",
       "min         0.000000       0.000000       0.000000        0.000000   \n",
       "25%         0.000000     120.000000       0.000000      480.000000   \n",
       "50%         0.000000     180.000000       0.000000      720.000000   \n",
       "75%         0.000000     300.000000       0.000000     1080.000000   \n",
       "max      5040.000000    3660.000000     840.000000    28200.000000   \n",
       "\n",
       "          prime_time   actual_total  \n",
       "count  184007.000000  184007.000000  \n",
       "mean        0.173958      12.037122  \n",
       "std         0.308286       8.051167  \n",
       "min         0.000000       5.000000  \n",
       "25%         0.000000       7.600000  \n",
       "50%         0.000000       9.600000  \n",
       "75%         0.250000      13.030000  \n",
       "max         5.000000     400.000000  "
      ]
     },
     "execution_count": 1117,
     "metadata": {},
     "output_type": "execute_result"
    }
   ],
   "source": [
    "df3.describe()"
   ]
  },
  {
   "cell_type": "code",
   "execution_count": 1118,
   "metadata": {
    "scrolled": true
   },
   "outputs": [
    {
     "data": {
      "image/png": "[encoded data removed]",
      "text/plain": [
       "<Figure size 864x576 with 6 Axes>"
      ]
     },
     "metadata": {
      "needs_background": "light"
     },
     "output_type": "display_data"
    }
   ],
   "source": [
    "df3.hist(figsize = (12,8));"
   ]
  },
  {
   "cell_type": "markdown",
   "metadata": {},
   "source": [
    "## Removing Outliers"
   ]
  },
  {
   "cell_type": "code",
   "execution_count": 1119,
   "metadata": {},
   "outputs": [],
   "source": [
    "len(df3[df3['actual_total'] > 50]) / len(df3) # less than 1%\n",
    "df3.drop(df3[df3['actual_total'] > 50].index, inplace=True)"
   ]
  },
  {
   "cell_type": "code",
   "execution_count": 1120,
   "metadata": {},
   "outputs": [],
   "source": [
    "len(df3[df3['diff_acc_arr'] > 1000]) / len(df3) # less than 1%\n",
    "df3.drop(df3[df3['diff_acc_arr'] > 1000].index, inplace=True)"
   ]
  },
  {
   "cell_type": "code",
   "execution_count": 1121,
   "metadata": {},
   "outputs": [],
   "source": [
    "len(df3[df3['diff_arr_pick'] > 80]) / len(df3) # less than 1%\n",
    "df3.drop(df3[df3['diff_arr_pick'] > 80].index, inplace=True)"
   ]
  },
  {
   "cell_type": "code",
   "execution_count": 1122,
   "metadata": {},
   "outputs": [],
   "source": [
    "len(df3[df3['diff_pick_drop'] > 2600]) / len(df3) # less than 1%\n",
    "df3.drop(df3[df3['diff_pick_drop'] > 2600].index, inplace=True)"
   ]
  },
  {
   "cell_type": "code",
   "execution_count": 1123,
   "metadata": {},
   "outputs": [],
   "source": [
    "len(df3[df3['diff_req_acc'] > 120]) / len(df3) # less than 1%\n",
    "df3.drop(df3[df3['diff_req_acc'] > 120].index, inplace=True)"
   ]
  },
  {
   "cell_type": "code",
   "execution_count": 1124,
   "metadata": {},
   "outputs": [],
   "source": [
    "len(df3[df3['prime_time'] > 1.5]) / len(df3) # less than 1%\n",
    "df3.drop(df3[df3['prime_time'] > 1.5].index, inplace=True)"
   ]
  },
  {
   "cell_type": "markdown",
   "metadata": {},
   "source": [
    "## Log Transforming\n",
    "**Let's see if we can coerce a normal distribution**"
   ]
  },
  {
   "cell_type": "code",
   "execution_count": 1125,
   "metadata": {},
   "outputs": [
    {
     "data": {
      "image/png": "[encoded data removed]",
      "text/plain": [
       "<Figure size 864x576 with 6 Axes>"
      ]
     },
     "metadata": {
      "needs_background": "light"
     },
     "output_type": "display_data"
    }
   ],
   "source": [
    "df3.hist(figsize = (12,8));"
   ]
  },
  {
   "cell_type": "markdown",
   "metadata": {},
   "source": [
    "## Now It's time to split our data into training and testing sets "
   ]
  },
  {
   "cell_type": "code",
   "execution_count": null,
   "metadata": {},
   "outputs": [],
   "source": []
  },
  {
   "cell_type": "code",
   "execution_count": 1126,
   "metadata": {},
   "outputs": [],
   "source": [
    "X = df3[['diff_req_acc','diff_acc_arr','diff_arr_pick','diff_pick_drop','prime_time']]"
   ]
  },
  {
   "cell_type": "code",
   "execution_count": 1127,
   "metadata": {},
   "outputs": [],
   "source": [
    "y = df3['actual_total']"
   ]
  },
  {
   "cell_type": "code",
   "execution_count": 1128,
   "metadata": {},
   "outputs": [],
   "source": [
    "from sklearn.model_selection import train_test_split"
   ]
  },
  {
   "cell_type": "code",
   "execution_count": 1129,
   "metadata": {},
   "outputs": [],
   "source": [
    "X_train, X_test, y_train, y_test = train_test_split(X, y, test_size=0.3, random_state=101)"
   ]
  },
  {
   "cell_type": "markdown",
   "metadata": {},
   "source": [
    "## Scaling Our Data\n",
    "**Given that we don't have normally distributed data, convention tells us \n",
    "to use a MinMax Scaler**"
   ]
  },
  {
   "cell_type": "code",
   "execution_count": 1130,
   "metadata": {},
   "outputs": [],
   "source": [
    "from sklearn.preprocessing import MinMaxScaler\n",
    "scaler = MinMaxScaler()\n",
    "X_train = scaler.fit_transform(X_train)\n",
    "X_test  = scaler.transform(X_test)"
   ]
  },
  {
   "cell_type": "code",
   "execution_count": 1131,
   "metadata": {},
   "outputs": [],
   "source": [
    "from sklearn.linear_model import LinearRegression"
   ]
  },
  {
   "cell_type": "code",
   "execution_count": 1132,
   "metadata": {},
   "outputs": [],
   "source": [
    "lm = LinearRegression(fit_intercept=False)"
   ]
  },
  {
   "cell_type": "code",
   "execution_count": 1133,
   "metadata": {},
   "outputs": [
    {
     "data": {
      "text/plain": [
       "LinearRegression(copy_X=True, fit_intercept=False, n_jobs=None,\n",
       "         normalize=False)"
      ]
     },
     "execution_count": 1133,
     "metadata": {},
     "output_type": "execute_result"
    }
   ],
   "source": [
    "lm.fit(X_train,y_train)"
   ]
  },
  {
   "cell_type": "code",
   "execution_count": 1134,
   "metadata": {},
   "outputs": [
    {
     "data": {
      "text/plain": [
       "array([ 6.82002515e-01,  4.97853636e+00,  5.31966809e-01,  3.11964180e+01,\n",
       "       -1.35339995e-03])"
      ]
     },
     "execution_count": 1134,
     "metadata": {},
     "output_type": "execute_result"
    }
   ],
   "source": [
    "lm.coef_"
   ]
  },
  {
   "cell_type": "code",
   "execution_count": 1135,
   "metadata": {},
   "outputs": [],
   "source": [
    "df4 = pd.DataFrame(lm.coef_,X.columns)\n",
    "df4.columns = ['Coeffecient']"
   ]
  },
  {
   "cell_type": "code",
   "execution_count": 1136,
   "metadata": {},
   "outputs": [
    {
     "data": {
      "text/html": [
       "<div>\n",
       "<style scoped>\n",
       "    .dataframe tbody tr th:only-of-type {\n",
       "        vertical-align: middle;\n",
       "    }\n",
       "\n",
       "    .dataframe tbody tr th {\n",
       "        vertical-align: top;\n",
       "    }\n",
       "\n",
       "    .dataframe thead th {\n",
       "        text-align: right;\n",
       "    }\n",
       "</style>\n",
       "<table border=\"1\" class=\"dataframe\">\n",
       "  <thead>\n",
       "    <tr style=\"text-align: right;\">\n",
       "      <th></th>\n",
       "      <th>Coeffecient</th>\n",
       "    </tr>\n",
       "  </thead>\n",
       "  <tbody>\n",
       "    <tr>\n",
       "      <th>diff_req_acc</th>\n",
       "      <td>0.682003</td>\n",
       "    </tr>\n",
       "    <tr>\n",
       "      <th>diff_acc_arr</th>\n",
       "      <td>4.978536</td>\n",
       "    </tr>\n",
       "    <tr>\n",
       "      <th>diff_arr_pick</th>\n",
       "      <td>0.531967</td>\n",
       "    </tr>\n",
       "    <tr>\n",
       "      <th>diff_pick_drop</th>\n",
       "      <td>31.196418</td>\n",
       "    </tr>\n",
       "    <tr>\n",
       "      <th>prime_time</th>\n",
       "      <td>-0.001353</td>\n",
       "    </tr>\n",
       "  </tbody>\n",
       "</table>\n",
       "</div>"
      ],
      "text/plain": [
       "                Coeffecient\n",
       "diff_req_acc       0.682003\n",
       "diff_acc_arr       4.978536\n",
       "diff_arr_pick      0.531967\n",
       "diff_pick_drop    31.196418\n",
       "prime_time        -0.001353"
      ]
     },
     "execution_count": 1136,
     "metadata": {},
     "output_type": "execute_result"
    }
   ],
   "source": [
    "df4"
   ]
  },
  {
   "cell_type": "code",
   "execution_count": 1137,
   "metadata": {},
   "outputs": [],
   "source": [
    "predictions = lm.predict(X_test)"
   ]
  },
  {
   "cell_type": "code",
   "execution_count": 1138,
   "metadata": {},
   "outputs": [
    {
     "data": {
      "text/html": [
       "<div>\n",
       "<style scoped>\n",
       "    .dataframe tbody tr th:only-of-type {\n",
       "        vertical-align: middle;\n",
       "    }\n",
       "\n",
       "    .dataframe tbody tr th {\n",
       "        vertical-align: top;\n",
       "    }\n",
       "\n",
       "    .dataframe thead th {\n",
       "        text-align: right;\n",
       "    }\n",
       "</style>\n",
       "<table border=\"1\" class=\"dataframe\">\n",
       "  <thead>\n",
       "    <tr style=\"text-align: right;\">\n",
       "      <th></th>\n",
       "      <th>actual_total</th>\n",
       "    </tr>\n",
       "  </thead>\n",
       "  <tbody>\n",
       "    <tr>\n",
       "      <th>51730</th>\n",
       "      <td>8.70</td>\n",
       "    </tr>\n",
       "    <tr>\n",
       "      <th>142116</th>\n",
       "      <td>13.36</td>\n",
       "    </tr>\n",
       "    <tr>\n",
       "      <th>23976</th>\n",
       "      <td>5.00</td>\n",
       "    </tr>\n",
       "    <tr>\n",
       "      <th>109220</th>\n",
       "      <td>12.14</td>\n",
       "    </tr>\n",
       "    <tr>\n",
       "      <th>9917</th>\n",
       "      <td>15.43</td>\n",
       "    </tr>\n",
       "  </tbody>\n",
       "</table>\n",
       "</div>"
      ],
      "text/plain": [
       "        actual_total\n",
       "51730           8.70\n",
       "142116         13.36\n",
       "23976           5.00\n",
       "109220         12.14\n",
       "9917           15.43"
      ]
     },
     "execution_count": 1138,
     "metadata": {},
     "output_type": "execute_result"
    }
   ],
   "source": [
    "dfy = pd.DataFrame(y_test)\n",
    "dfy.head()"
   ]
  },
  {
   "cell_type": "code",
   "execution_count": 1139,
   "metadata": {},
   "outputs": [
    {
     "data": {
      "text/html": [
       "<div>\n",
       "<style scoped>\n",
       "    .dataframe tbody tr th:only-of-type {\n",
       "        vertical-align: middle;\n",
       "    }\n",
       "\n",
       "    .dataframe tbody tr th {\n",
       "        vertical-align: top;\n",
       "    }\n",
       "\n",
       "    .dataframe thead th {\n",
       "        text-align: right;\n",
       "    }\n",
       "</style>\n",
       "<table border=\"1\" class=\"dataframe\">\n",
       "  <thead>\n",
       "    <tr style=\"text-align: right;\">\n",
       "      <th></th>\n",
       "      <th>actual_total</th>\n",
       "      <th>LCVP</th>\n",
       "    </tr>\n",
       "  </thead>\n",
       "  <tbody>\n",
       "    <tr>\n",
       "      <th>51730</th>\n",
       "      <td>8.70</td>\n",
       "      <td>9.328294</td>\n",
       "    </tr>\n",
       "    <tr>\n",
       "      <th>142116</th>\n",
       "      <td>13.36</td>\n",
       "      <td>12.438264</td>\n",
       "    </tr>\n",
       "    <tr>\n",
       "      <th>23976</th>\n",
       "      <td>5.00</td>\n",
       "      <td>1.658974</td>\n",
       "    </tr>\n",
       "    <tr>\n",
       "      <th>109220</th>\n",
       "      <td>12.14</td>\n",
       "      <td>12.541445</td>\n",
       "    </tr>\n",
       "    <tr>\n",
       "      <th>9917</th>\n",
       "      <td>15.43</td>\n",
       "      <td>18.034271</td>\n",
       "    </tr>\n",
       "  </tbody>\n",
       "</table>\n",
       "</div>"
      ],
      "text/plain": [
       "        actual_total       LCVP\n",
       "51730           8.70   9.328294\n",
       "142116         13.36  12.438264\n",
       "23976           5.00   1.658974\n",
       "109220         12.14  12.541445\n",
       "9917           15.43  18.034271"
      ]
     },
     "execution_count": 1139,
     "metadata": {},
     "output_type": "execute_result"
    }
   ],
   "source": [
    "dfy['LCVP'] = predictions\n",
    "dfy.head()"
   ]
  },
  {
   "cell_type": "code",
   "execution_count": 1140,
   "metadata": {},
   "outputs": [
    {
     "data": {
      "text/plain": [
       "Text(0, 0.5, 'Predicted Y')"
      ]
     },
     "execution_count": 1140,
     "metadata": {},
     "output_type": "execute_result"
    },
    {
     "data": {
      "image/png": "[encoded data removed]",
      "text/plain": [
       "<Figure size 432x288 with 1 Axes>"
      ]
     },
     "metadata": {
      "needs_background": "light"
     },
     "output_type": "display_data"
    }
   ],
   "source": [
    "plt.scatter(y_test,predictions)\n",
    "plt.xlabel('Y Test')\n",
    "plt.ylabel('Predicted Y')"
   ]
  },
  {
   "cell_type": "code",
   "execution_count": 1141,
   "metadata": {},
   "outputs": [
    {
     "name": "stdout",
     "output_type": "stream",
     "text": [
      "MAE: 2.13262714695629\n",
      "MSE: 9.911987957589213\n",
      "RMSE: 3.1483309796762495\n"
     ]
    }
   ],
   "source": [
    "from sklearn import metrics\n",
    "\n",
    "print('MAE:', metrics.mean_absolute_error(y_test, predictions))\n",
    "print('MSE:', metrics.mean_squared_error(y_test, predictions))\n",
    "print('RMSE:', np.sqrt(metrics.mean_squared_error(y_test, predictions)))"
   ]
  },
  {
   "cell_type": "code",
   "execution_count": 1142,
   "metadata": {},
   "outputs": [
    {
     "name": "stdout",
     "output_type": "stream",
     "text": [
      "0.7297445504367968\n"
     ]
    }
   ],
   "source": [
    "from sklearn.metrics import r2_score\n",
    "print(r2_score(y_test,predictions))"
   ]
  },
  {
   "cell_type": "code",
   "execution_count": 1143,
   "metadata": {},
   "outputs": [],
   "source": [
    "import statsmodels.api as sm\n",
    "from statsmodels.formula.api import ols"
   ]
  },
  {
   "cell_type": "code",
   "execution_count": 1144,
   "metadata": {},
   "outputs": [
    {
     "data": {
      "text/html": [
       "<table class=\"simpletable\">\n",
       "<caption>OLS Regression Results</caption>\n",
       "<tr>\n",
       "  <th>Dep. Variable:</th>      <td>actual_total</td>   <th>  R-squared:         </th>  <td>   0.940</td>  \n",
       "</tr>\n",
       "<tr>\n",
       "  <th>Model:</th>                   <td>OLS</td>       <th>  Adj. R-squared:    </th>  <td>   0.940</td>  \n",
       "</tr>\n",
       "<tr>\n",
       "  <th>Method:</th>             <td>Least Squares</td>  <th>  F-statistic:       </th>  <td>5.624e+05</td> \n",
       "</tr>\n",
       "<tr>\n",
       "  <th>Date:</th>             <td>Tue, 24 Sep 2019</td> <th>  Prob (F-statistic):</th>   <td>  0.00</td>   \n",
       "</tr>\n",
       "<tr>\n",
       "  <th>Time:</th>                 <td>13:48:24</td>     <th>  Log-Likelihood:    </th> <td>-4.5695e+05</td>\n",
       "</tr>\n",
       "<tr>\n",
       "  <th>No. Observations:</th>      <td>178212</td>      <th>  AIC:               </th>  <td>9.139e+05</td> \n",
       "</tr>\n",
       "<tr>\n",
       "  <th>Df Residuals:</th>          <td>178207</td>      <th>  BIC:               </th>  <td>9.140e+05</td> \n",
       "</tr>\n",
       "<tr>\n",
       "  <th>Df Model:</th>              <td>     5</td>      <th>                     </th>      <td> </td>     \n",
       "</tr>\n",
       "<tr>\n",
       "  <th>Covariance Type:</th>      <td>nonrobust</td>    <th>                     </th>      <td> </td>     \n",
       "</tr>\n",
       "</table>\n",
       "<table class=\"simpletable\">\n",
       "<tr>\n",
       "         <td></td>           <th>coef</th>     <th>std err</th>      <th>t</th>      <th>P>|t|</th>  <th>[0.025</th>    <th>0.975]</th>  \n",
       "</tr>\n",
       "<tr>\n",
       "  <th>diff_req_acc</th>   <td>    0.0058</td> <td>    0.000</td> <td>   17.902</td> <td> 0.000</td> <td>    0.005</td> <td>    0.006</td>\n",
       "</tr>\n",
       "<tr>\n",
       "  <th>diff_acc_arr</th>   <td>    0.0052</td> <td> 4.13e-05</td> <td>  125.490</td> <td> 0.000</td> <td>    0.005</td> <td>    0.005</td>\n",
       "</tr>\n",
       "<tr>\n",
       "  <th>diff_arr_pick</th>  <td>    0.0091</td> <td>    0.000</td> <td>   23.294</td> <td> 0.000</td> <td>    0.008</td> <td>    0.010</td>\n",
       "</tr>\n",
       "<tr>\n",
       "  <th>diff_pick_drop</th> <td>    0.0121</td> <td> 1.29e-05</td> <td>  939.987</td> <td> 0.000</td> <td>    0.012</td> <td>    0.012</td>\n",
       "</tr>\n",
       "<tr>\n",
       "  <th>prime_time</th>     <td>   -0.0084</td> <td>    0.026</td> <td>   -0.327</td> <td> 0.744</td> <td>   -0.059</td> <td>    0.042</td>\n",
       "</tr>\n",
       "</table>\n",
       "<table class=\"simpletable\">\n",
       "<tr>\n",
       "  <th>Omnibus:</th>       <td>39602.503</td> <th>  Durbin-Watson:     </th>  <td>   1.995</td> \n",
       "</tr>\n",
       "<tr>\n",
       "  <th>Prob(Omnibus):</th>  <td> 0.000</td>   <th>  Jarque-Bera (JB):  </th> <td>225062.459</td>\n",
       "</tr>\n",
       "<tr>\n",
       "  <th>Skew:</th>           <td> 0.953</td>   <th>  Prob(JB):          </th>  <td>    0.00</td> \n",
       "</tr>\n",
       "<tr>\n",
       "  <th>Kurtosis:</th>       <td> 8.165</td>   <th>  Cond. No.          </th>  <td>3.29e+03</td> \n",
       "</tr>\n",
       "</table><br/><br/>Warnings:<br/>[1] Standard Errors assume that the covariance matrix of the errors is correctly specified.<br/>[2] The condition number is large, 3.29e+03. This might indicate that there are<br/>strong multicollinearity or other numerical problems."
      ],
      "text/plain": [
       "<class 'statsmodels.iolib.summary.Summary'>\n",
       "\"\"\"\n",
       "                            OLS Regression Results                            \n",
       "==============================================================================\n",
       "Dep. Variable:           actual_total   R-squared:                       0.940\n",
       "Model:                            OLS   Adj. R-squared:                  0.940\n",
       "Method:                 Least Squares   F-statistic:                 5.624e+05\n",
       "Date:                Tue, 24 Sep 2019   Prob (F-statistic):               0.00\n",
       "Time:                        13:48:24   Log-Likelihood:            -4.5695e+05\n",
       "No. Observations:              178212   AIC:                         9.139e+05\n",
       "Df Residuals:                  178207   BIC:                         9.140e+05\n",
       "Df Model:                           5                                         \n",
       "Covariance Type:            nonrobust                                         \n",
       "==================================================================================\n",
       "                     coef    std err          t      P>|t|      [0.025      0.975]\n",
       "----------------------------------------------------------------------------------\n",
       "diff_req_acc       0.0058      0.000     17.902      0.000       0.005       0.006\n",
       "diff_acc_arr       0.0052   4.13e-05    125.490      0.000       0.005       0.005\n",
       "diff_arr_pick      0.0091      0.000     23.294      0.000       0.008       0.010\n",
       "diff_pick_drop     0.0121   1.29e-05    939.987      0.000       0.012       0.012\n",
       "prime_time        -0.0084      0.026     -0.327      0.744      -0.059       0.042\n",
       "==============================================================================\n",
       "Omnibus:                    39602.503   Durbin-Watson:                   1.995\n",
       "Prob(Omnibus):                  0.000   Jarque-Bera (JB):           225062.459\n",
       "Skew:                           0.953   Prob(JB):                         0.00\n",
       "Kurtosis:                       8.165   Cond. No.                     3.29e+03\n",
       "==============================================================================\n",
       "\n",
       "Warnings:\n",
       "[1] Standard Errors assume that the covariance matrix of the errors is correctly specified.\n",
       "[2] The condition number is large, 3.29e+03. This might indicate that there are\n",
       "strong multicollinearity or other numerical problems.\n",
       "\"\"\""
      ]
     },
     "execution_count": 1144,
     "metadata": {},
     "output_type": "execute_result"
    }
   ],
   "source": [
    "ols_model = sm.OLS(y,X).fit()\n",
    "ols_model.summary()"
   ]
  },
  {
   "cell_type": "code",
   "execution_count": 1145,
   "metadata": {},
   "outputs": [
    {
     "data": {
      "text/plain": [
       "9.877780766954501"
      ]
     },
     "execution_count": 1145,
     "metadata": {},
     "output_type": "execute_result"
    }
   ],
   "source": [
    "ols_model.mse_resid"
   ]
  },
  {
   "cell_type": "code",
   "execution_count": 1146,
   "metadata": {},
   "outputs": [],
   "source": [
    "X1 = df3[['diff_req_acc','diff_acc_arr','diff_arr_pick','diff_pick_drop']]\n",
    "y1 = df3['actual_total']"
   ]
  },
  {
   "cell_type": "code",
   "execution_count": 1147,
   "metadata": {},
   "outputs": [],
   "source": [
    "X1_train, X1_test, y1_train, y1_test = train_test_split(X1, y1, test_size=0.3, random_state=101)"
   ]
  },
  {
   "cell_type": "code",
   "execution_count": 1148,
   "metadata": {},
   "outputs": [],
   "source": [
    "X1_train = scaler.fit_transform(X1_train)\n",
    "X1_test  = scaler.transform(X1_test)"
   ]
  },
  {
   "cell_type": "code",
   "execution_count": 1149,
   "metadata": {},
   "outputs": [
    {
     "data": {
      "text/plain": [
       "9.863094156709325"
      ]
     },
     "execution_count": 1149,
     "metadata": {},
     "output_type": "execute_result"
    }
   ],
   "source": [
    "ols_model = sm.OLS(y1_train,X1_train).fit()\n",
    "ols_model.mse_resid"
   ]
  },
  {
   "cell_type": "code",
   "execution_count": null,
   "metadata": {},
   "outputs": [],
   "source": []
  }
 ],
 "metadata": {
  "kernelspec": {
   "display_name": "Python 3",
   "language": "python",
   "name": "python3"
  },
  "language_info": {
   "codemirror_mode": {
    "name": "ipython",
    "version": 3
   },
   "file_extension": ".py",
   "mimetype": "text/x-python",
   "name": "python",
   "nbconvert_exporter": "python",
   "pygments_lexer": "ipython3",
   "version": "3.6.6"
  }
 },
 "nbformat": 4,
 "nbformat_minor": 2
}
